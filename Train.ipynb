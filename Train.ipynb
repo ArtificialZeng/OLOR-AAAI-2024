{
 "cells": [
  {
   "cell_type": "markdown",
   "metadata": {},
   "source": [
    "### Train"
   ]
  },
  {
   "cell_type": "code",
   "execution_count": null,
   "metadata": {
    "scrolled": true,
    "tags": []
   },
   "outputs": [],
   "source": [
    "!CUDA_VISIBEL_DEVICES=0 \\\n",
    "python -m torch.distributed.launch --nproc_per_node=1 \\\n",
    "/root/OLOR/train.py \\\n",
    "--finetune-mode AdamB \\\n",
    "--model-type vit \\\n",
    "--csv-dir /root/autodl-tmp/CIFAR100/Cifar_100_train_10fold.csv \\\n",
    "--config-name 'config' \\\n",
    "--image-size 224 \\\n",
    "--epochs 50 \\\n",
    "--init-lr 1e-4 \\\n",
    "--batch-size 128 \\\n",
    "--num-workers 6 \\\n",
    "--nbatch_log 300 \\\n",
    "--warmup_epochs 0 \\\n",
    "--val_fold 0"
   ]
  },
  {
   "cell_type": "markdown",
   "metadata": {},
   "source": [
    "### Test"
   ]
  },
  {
   "cell_type": "code",
   "execution_count": null,
   "metadata": {
    "tags": []
   },
   "outputs": [],
   "source": [
    "csv = '/root/autodl-tmp/CIFAR100/Cifar_100_test.csv'\n",
    "path = ''\n",
    "\n",
    "!python /root/OLOR/test.py \\\n",
    "--image-size 224 \\\n",
    "--csv-dir $csv \\\n",
    "--model-path $path \\"
   ]
  }
 ],
 "metadata": {
  "kernelspec": {
   "display_name": "Python 3 (ipykernel)",
   "language": "python",
   "name": "python3"
  },
  "language_info": {
   "codemirror_mode": {
    "name": "ipython",
    "version": 3
   },
   "file_extension": ".py",
   "mimetype": "text/x-python",
   "name": "python",
   "nbconvert_exporter": "python",
   "pygments_lexer": "ipython3",
   "version": "3.8.10"
  },
  "vscode": {
   "interpreter": {
    "hash": "2f394aca7ca06fed1e6064aef884364492d7cdda3614a461e02e6407fc40ba69"
   }
  }
 },
 "nbformat": 4,
 "nbformat_minor": 4
}
