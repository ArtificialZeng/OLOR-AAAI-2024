{
 "cells": [
  {
   "cell_type": "markdown",
   "metadata": {},
   "source": [
    "### Preprocess"
   ]
  },
  {
   "cell_type": "code",
   "execution_count": null,
   "metadata": {},
   "outputs": [],
   "source": [
    "# /root/autodl-tmp/CIFAR100/Cifar_100_train_10fold.csv\n",
    "# /root/autodl-tmp/SVHN/SVHN_train_10fold.csv\n",
    "# /root/autodl-tmp/CUB_200_2011/CUB_200_2011_train_10fold.csv\n",
    "# /root/autodl-tmp/Stanford_Cars/Standford_Cars_train_10fold.csv\n",
    "# /root/autodl-tmp/Places_LT/Places_LT_train.csv\n",
    "# /root/autodl-tmp/ip102_v1.1/IP102_train.csv\n",
    "# /root/autodl-tmp/OfficeHome/OfficeHome_train_10fold.csv\n",
    "# /root/autodl-tmp/PACS/PACS_train_10fold.csv"
   ]
  },
  {
   "cell_type": "markdown",
   "metadata": {},
   "source": [
    "* CUB_200_2011"
   ]
  },
  {
   "cell_type": "code",
   "execution_count": null,
   "metadata": {
    "tags": []
   },
   "outputs": [],
   "source": [
    "import os\n",
    "with open('/root/autodl-tmp/CUB_200_2011/image_class_labels.txt', 'r') as f:\n",
    "    data1 = [line.strip().split()[-1] for line in f.readlines()]\n",
    "with open('/root/autodl-tmp/CUB_200_2011/images.txt', 'r') as f:\n",
    "    data2 = [os.path.join('/root/autodl-tmp/CUB_200_2011/images', line.strip().split()[-1]) for line in f.readlines()]\n",
    "with open('/root/autodl-tmp/CUB_200_2011/train_test_split.txt', 'r') as f:\n",
    "    data3 = [line.strip().split()[-1] for line in f.readlines()]"
   ]
  },
  {
   "cell_type": "code",
   "execution_count": null,
   "metadata": {
    "tags": []
   },
   "outputs": [],
   "source": [
    "import pandas as pd\n",
    "import numpy as np\n",
    "df_train = []\n",
    "df_test = []\n",
    "data1 = [int(e) for e in data1]\n",
    "label_unique = list(np.unique(data1))\n",
    "for l1, l2, l3 in zip(data1, data2, data3):\n",
    "    if l3 == '1':\n",
    "        df_train.append([l2, label_unique.index(l1)])\n",
    "    else:\n",
    "        df_test.append([l2, label_unique.index(l1)])\n",
    "df_train = pd.DataFrame(df_train, columns=['image_path', 'label'])\n",
    "df_test = pd.DataFrame(df_test, columns=['image_path', 'label'])\n",
    "df_train.to_csv('/root/autodl-tmp/CUB_200_2011/CUB_200_2011_train.csv', index=False)\n",
    "df_test.to_csv('/root/autodl-tmp/CUB_200_2011/CUB_200_2011_test.csv', index=False)\n",
    "display(df_train)\n",
    "df_test"
   ]
  },
  {
   "cell_type": "code",
   "execution_count": null,
   "metadata": {
    "tags": []
   },
   "outputs": [],
   "source": [
    "import pandas as pd\n",
    "from sklearn.model_selection import StratifiedKFold\n",
    "from tqdm.notebook import tqdm\n",
    "df = pd.read_csv('/root/autodl-tmp/CUB_200_2011/CUB_200_2011_train.csv')\n",
    "split = list(StratifiedKFold(n_splits=10, shuffle=True, random_state=1).split(df, df['label']))\n",
    "for fold, (train_index, val_index) in enumerate(tqdm(split)):\n",
    "    df.loc[val_index, 'fold'] = fold\n",
    "df.to_csv('/root/autodl-tmp/CUB_200_2011/CUB_200_2011_train_10fold.csv', index=False)\n",
    "df"
   ]
  },
  {
   "cell_type": "markdown",
   "metadata": {},
   "source": [
    "* Stanford Cars"
   ]
  },
  {
   "cell_type": "code",
   "execution_count": null,
   "metadata": {},
   "outputs": [],
   "source": [
    "import scipy.io as scio\n",
    "from glob import glob\n",
    "import numpy as np\n",
    "import pandas as pd\n",
    "import os\n",
    "data = scio.loadmat('/root/autodl-tmp/Stanford_Cars/cars_annos.mat')['annotations']\n",
    "df_train = []\n",
    "df_test = []\n",
    "for i in range(data.shape[1]):\n",
    "    if data[0, i][-1][0, 0] == 1:\n",
    "        df_train.append([os.path.join('/root/autodl-tmp/Stanford_Cars', data[0, i][0][0]), data[0, i][-2][0, 0]-1])\n",
    "    else:\n",
    "        df_test.append([os.path.join('/root/autodl-tmp/Stanford_Cars', data[0, i][0][0]), data[0, i][-2][0, 0]-1])\n",
    "df_train = pd.DataFrame(df_train, columns=['image_path', 'label'])\n",
    "df_test = pd.DataFrame(df_test, columns=['image_path', 'label'])\n",
    "df_train.to_csv('/root/autodl-tmp/Stanford_Cars/Standford_Cars_train.csv', index=False)\n",
    "df_test.to_csv('/root/autodl-tmp/Stanford_Cars/Standford_Cars_test.csv', index=False)\n",
    "display(df_train)\n",
    "df_test"
   ]
  },
  {
   "cell_type": "code",
   "execution_count": null,
   "metadata": {},
   "outputs": [],
   "source": [
    "import pandas as pd\n",
    "from sklearn.model_selection import StratifiedKFold\n",
    "from tqdm.notebook import tqdm\n",
    "df = pd.read_csv('/root/autodl-tmp/Stanford_Cars/Standford_Cars_train.csv')\n",
    "split = list(StratifiedKFold(n_splits=10, shuffle=True, random_state=1).split(df, df['label']))\n",
    "for fold, (train_index, val_index) in enumerate(tqdm(split)):\n",
    "    df.loc[val_index, 'fold'] = fold\n",
    "df.to_csv('/root/autodl-tmp/Stanford_Cars/Standford_Cars_train_10fold.csv', index=False)\n",
    "df"
   ]
  },
  {
   "cell_type": "markdown",
   "metadata": {},
   "source": [
    "* Oxford Flowers"
   ]
  },
  {
   "cell_type": "code",
   "execution_count": null,
   "metadata": {},
   "outputs": [],
   "source": [
    "import scipy.io as scio\n",
    "from glob import glob\n",
    "import numpy as np\n",
    "import pandas as pd\n",
    "data1 = scio.loadmat('/root/autodl-tmp/Oxford_Flowers/imagelabels.mat')\n",
    "data2 = scio.loadmat('/root/autodl-tmp/Oxford_Flowers/setid.mat')\n",
    "train_index, valid_index, test_index = data2['trnid'], data2['valid'], data2['tstid']\n",
    "labels = data1['labels'].astype('float')\n",
    "images = glob('/root/autodl-tmp/Oxford_Flowers/jpg/*')\n",
    "images = sorted(images)"
   ]
  },
  {
   "cell_type": "code",
   "execution_count": null,
   "metadata": {},
   "outputs": [],
   "source": [
    "df_train = []\n",
    "df_val = []\n",
    "df_test = []\n",
    "for i in train_index[0, :]-1:\n",
    "    df_train.append([images[i], labels[0, i]-1])\n",
    "df_train = pd.DataFrame(df_train, columns=['image_path', 'label'])\n",
    "df_train['fold'] = 0\n",
    "for i in valid_index[0, :]-1:\n",
    "    df_val.append([images[i], labels[0, i]-1])\n",
    "df_val = pd.DataFrame(df_val, columns=['image_path', 'label'])\n",
    "df_val['fold'] = 1\n",
    "for i in test_index[0, :]-1:\n",
    "    df_test.append([images[i], labels[0, i]-1])\n",
    "df_test = pd.DataFrame(df_test, columns=['image_path', 'label'])\n",
    "df_train_val = pd.concat([df_train, df_val], axis=0).reset_index(drop=True)\n",
    "df_train_val.to_csv('/root/autodl-tmp/Oxford_Flowers/Oxford_Flowers_train.csv', index=False)\n",
    "df_test.to_csv('/root/autodl-tmp/Oxford_Flowers/Oxford_Flowers_test.csv', index=False)\n",
    "display(df_train_val)\n",
    "df_test"
   ]
  },
  {
   "cell_type": "code",
   "execution_count": null,
   "metadata": {},
   "outputs": [],
   "source": [
    "import pandas as pd\n",
    "from sklearn.model_selection import StratifiedKFold\n",
    "from tqdm.notebook import tqdm\n",
    "df = pd.read_csv('FGVC/Oxford_Flowers/Oxford_Flowers_train.csv')\n",
    "df_1_shot = df.copy()\n",
    "df_5_shot = df.copy()\n",
    "df_10_shot = df.copy()\n",
    "split1 = list(StratifiedKFold(n_splits=20, shuffle=True, random_state=1).split(df, df['label']))\n",
    "split2 = list(StratifiedKFold(n_splits=4, shuffle=True, random_state=1).split(df, df['label']))\n",
    "split3 = list(StratifiedKFold(n_splits=2, shuffle=True, random_state=1).split(df, df['label']))\n",
    "for fold, (train_index, val_index) in enumerate(tqdm(split1)):\n",
    "    df_1_shot.loc[val_index, 'fold'] = fold\n",
    "for fold, (train_index, val_index) in enumerate(tqdm(split2)):\n",
    "    df_5_shot.loc[val_index, 'fold'] = fold\n",
    "for fold, (train_index, val_index) in enumerate(tqdm(split3)):\n",
    "    df_10_shot.loc[val_index, 'fold'] = fold\n",
    "df_1_shot.to_csv('FGVC/Oxford_Flowers/Oxford_Flowers_train_1_shot.csv', index=False)\n",
    "df_5_shot.to_csv('FGVC/Oxford_Flowers/Oxford_Flowers_train_5_shot.csv', index=False)\n",
    "df_10_shot.to_csv('FGVC/Oxford_Flowers/Oxford_Flowers_train_10_shot.csv', index=False)\n",
    "df_10_shot.head()"
   ]
  },
  {
   "cell_type": "markdown",
   "metadata": {},
   "source": [
    "* Cifar100"
   ]
  },
  {
   "cell_type": "code",
   "execution_count": null,
   "metadata": {},
   "outputs": [],
   "source": [
    "from glob import glob\n",
    "import pandas as pd\n",
    "import numpy as np\n",
    "import os\n",
    "train_imgs = glob('/root/autodl-tmp/CIFAR100/TRAIN/*/*')\n",
    "test_imgs = glob('/root/autodl-tmp/CIFAR100/TEST/*/*')\n",
    "label2idx = os.listdir('/root/autodl-tmp/CIFAR100/TEST')\n",
    "train_labels = list(map(lambda x:label2idx.index(x.split('/')[5]), train_imgs))\n",
    "test_labels = list(map(lambda x:label2idx.index(x.split('/')[5]), test_imgs))\n",
    "df_train = pd.DataFrame({'image_path': train_imgs, 'label': train_labels})\n",
    "df_test = pd.DataFrame({'image_path': test_imgs, 'label': test_labels})\n",
    "df_train.to_csv('/root/autodl-tmp/CIFAR100/Cifar_100_train.csv', index=False)\n",
    "df_test.to_csv('/root/autodl-tmp/CIFAR100/Cifar_100_test.csv', index=False)\n",
    "display(df_train)\n",
    "df_test"
   ]
  },
  {
   "cell_type": "code",
   "execution_count": null,
   "metadata": {},
   "outputs": [],
   "source": [
    "from sklearn.model_selection import StratifiedKFold\n",
    "from tqdm.notebook import tqdm\n",
    "df = pd.read_csv('/root/autodl-tmp/CIFAR100/Cifar_100_train.csv')\n",
    "split = list(StratifiedKFold(n_splits=10, shuffle=True, random_state=1).split(df, df['label']))\n",
    "for fold, (train_index, val_index) in enumerate(tqdm(split)):\n",
    "    df.loc[val_index, 'fold'] = fold\n",
    "df.to_csv('/root/autodl-tmp/CIFAR100/Cifar_100_train_10fold.csv', index=False)\n",
    "df"
   ]
  },
  {
   "cell_type": "markdown",
   "metadata": {},
   "source": [
    "* SVHN"
   ]
  },
  {
   "cell_type": "code",
   "execution_count": null,
   "metadata": {},
   "outputs": [],
   "source": [
    "import numpy as np\n",
    "import os\n",
    "import cv2\n",
    "import pandas as pd\n",
    "from tqdm.notebook import tqdm, trange\n",
    "\n",
    "os.makedirs('/root/autodl-tmp/SVHN/train_images', exist_ok=True)\n",
    "os.makedirs('/root/autodl-tmp/SVHN/test_images', exist_ok=True)\n",
    "train_imgs = np.load('/root/autodl-tmp/SVHN/X_train.npy')\n",
    "train_labels = np.load('/root/autodl-tmp/SVHN/y_train.npy')\n",
    "test_imgs = np.load('/root/autodl-tmp/SVHN/X_test.npy')\n",
    "test_labels = np.load('/root/autodl-tmp/SVHN/y_test.npy')\n",
    "df_train = []\n",
    "df_test = []\n",
    "for i in trange(train_imgs.shape[-1]):\n",
    "    save_path = f'/root/autodl-tmp/SVHN/train_images/{i}.jpg'\n",
    "    cv2.imwrite(save_path, train_imgs[:, :, ::-1, i]*255)\n",
    "    df_train.append([save_path, train_labels[i, 0]])\n",
    "for i in trange(test_imgs.shape[-1]):\n",
    "    save_path = f'/root/autodl-tmp/SVHN/test_images/{i}.jpg'\n",
    "    cv2.imwrite(save_path, test_imgs[:, :, ::-1, i]*255)\n",
    "    df_test.append([save_path, test_labels[i, 0]])\n",
    "df_train = pd.DataFrame(df_train, columns=['image_path', 'label'])\n",
    "df_test = pd.DataFrame(df_test, columns=['image_path', 'label'])\n",
    "df_train.to_csv('/root/autodl-tmp/SVHN/SVHN_train.csv', index=False)\n",
    "df_test.to_csv('/root/autodl-tmp/SVHN/SVHN_test.csv', index=False)\n",
    "display(df_train)\n",
    "df_test"
   ]
  },
  {
   "cell_type": "code",
   "execution_count": null,
   "metadata": {},
   "outputs": [],
   "source": [
    "from sklearn.model_selection import StratifiedKFold\n",
    "from tqdm.notebook import tqdm\n",
    "df = pd.read_csv('/root/autodl-tmp/SVHN/SVHN_train.csv')\n",
    "split = list(StratifiedKFold(n_splits=10, shuffle=True, random_state=1).split(df, df['label']))\n",
    "for fold, (train_index, val_index) in enumerate(tqdm(split)):\n",
    "    df.loc[val_index, 'fold'] = fold\n",
    "df.to_csv('/root/autodl-tmp/SVHN/SVHN_train_10fold.csv', index=False)\n",
    "df"
   ]
  },
  {
   "cell_type": "markdown",
   "metadata": {},
   "source": [
    "* PACS"
   ]
  },
  {
   "cell_type": "code",
   "execution_count": null,
   "metadata": {
    "tags": []
   },
   "outputs": [],
   "source": [
    "import pandas as pd\n",
    "import numpy as np\n",
    "from glob import glob\n",
    "from tqdm.notebook import tqdm, trange\n",
    "import os\n",
    "\n",
    "all_images = glob('/root/autodl-tmp/PACS/*/*/*')\n",
    "train_imgs = [i for i in all_images if 'art_painting' not in i]\n",
    "test_imgs = [i for i in all_images if 'art_painting' in i]\n",
    "label2idx = os.listdir('/root/autodl-tmp/PACS/art_painting')\n",
    "train_labels = list(map(lambda x:label2idx.index(x.split('/')[5]), train_imgs))\n",
    "test_labels = list(map(lambda x:label2idx.index(x.split('/')[5]), test_imgs))\n",
    "df_train = pd.DataFrame({'image_path': train_imgs, 'label': train_labels})\n",
    "df_test = pd.DataFrame({'image_path': test_imgs, 'label': test_labels})\n",
    "df_train.to_csv('/root/autodl-tmp/PACS/PACS_train.csv', index=False)\n",
    "df_test.to_csv('/root/autodl-tmp/PACS/PACS_test.csv', index=False)\n",
    "display(df_train)\n",
    "df_test"
   ]
  },
  {
   "cell_type": "code",
   "execution_count": null,
   "metadata": {
    "tags": []
   },
   "outputs": [],
   "source": [
    "from sklearn.model_selection import StratifiedKFold\n",
    "\n",
    "df = pd.read_csv('/root/autodl-tmp/PACS/PACS_train.csv')\n",
    "split = list(StratifiedKFold(n_splits=10, shuffle=True, random_state=1).split(df, df['label']))\n",
    "for fold, (train_index, val_index) in enumerate(tqdm(split)):\n",
    "    df.loc[val_index, 'fold'] = fold\n",
    "df.to_csv('/root/autodl-tmp/PACS/PACS_train_10fold.csv', index=False)\n",
    "df"
   ]
  },
  {
   "cell_type": "markdown",
   "metadata": {},
   "source": [
    "* OfficeHome"
   ]
  },
  {
   "cell_type": "code",
   "execution_count": null,
   "metadata": {},
   "outputs": [],
   "source": [
    "import pandas as pd\n",
    "import numpy as np\n",
    "from glob import glob\n",
    "from tqdm.notebook import tqdm, trange\n",
    "import os\n",
    "\n",
    "all_images = glob('/root/autodl-tmp/OfficeHome/*/*/*')\n",
    "train_imgs = [i for i in all_images if 'Real World' not in i]\n",
    "test_imgs = [i for i in all_images if 'Real World' in i]\n",
    "label2idx = os.listdir('/root/autodl-tmp/OfficeHome/Real World')\n",
    "train_labels = list(map(lambda x:label2idx.index(x.split('/')[5]), train_imgs))\n",
    "test_labels = list(map(lambda x:label2idx.index(x.split('/')[5]), test_imgs))\n",
    "df_train = pd.DataFrame({'image_path': train_imgs, 'label': train_labels})\n",
    "df_test = pd.DataFrame({'image_path': test_imgs, 'label': test_labels})\n",
    "df_train.to_csv('/root/autodl-tmp/OfficeHome/OfficeHome_train.csv', index=False)\n",
    "df_test.to_csv('/root/autodl-tmp/OfficeHome/OfficeHome_test.csv', index=False)\n",
    "display(df_train)\n",
    "df_test"
   ]
  },
  {
   "cell_type": "code",
   "execution_count": null,
   "metadata": {},
   "outputs": [],
   "source": [
    "from sklearn.model_selection import StratifiedKFold\n",
    "\n",
    "df = pd.read_csv('/root/autodl-tmp/OfficeHome/OfficeHome_train.csv')\n",
    "split = list(StratifiedKFold(n_splits=10, shuffle=True, random_state=1).split(df, df['label']))\n",
    "for fold, (train_index, val_index) in enumerate(tqdm(split)):\n",
    "    df.loc[val_index, 'fold'] = fold\n",
    "df.to_csv('/root/autodl-tmp/OfficeHome/OfficeHome_train_10fold.csv', index=False)\n",
    "df"
   ]
  },
  {
   "cell_type": "markdown",
   "metadata": {},
   "source": [
    "* Places_LT"
   ]
  },
  {
   "cell_type": "code",
   "execution_count": null,
   "metadata": {
    "tags": []
   },
   "outputs": [],
   "source": [
    "import os\n",
    "import pandas as pd\n",
    "from glob import glob\n",
    "from tqdm.notebook import trange, tqdm\n",
    "import numpy as np\n",
    "str2idx = [i for i in range(365)]\n",
    "with open('/root/autodl-tmp/Places_LT/Places_LT_train.txt', 'r') as f:\n",
    "    data = f.readlines()\n",
    "    train_imgs = []\n",
    "    train_labels = []\n",
    "    for i in range(len(data)):\n",
    "        d = data[i].strip().split()[0]\n",
    "        l = data[i].strip().split()[-1]\n",
    "        d_splits = d.split('/')\n",
    "        if len(d_splits) == 5:\n",
    "            path = os.path.join('/root/autodl-tmp/Places_LT/train', d.split('/', 2)[-1].replace('/', '-', 1))\n",
    "        else:\n",
    "            path = os.path.join('/root/autodl-tmp/Places_LT/train', d.split('/', 2)[-1])\n",
    "        train_imgs.append(path)\n",
    "        train_labels.append(l)\n",
    "        \n",
    "with open('/root/autodl-tmp/Places_LT/Places_LT_val.txt', 'r') as f:\n",
    "    data = f.readlines()\n",
    "    val_imgs = []\n",
    "    val_labels = []\n",
    "    for i in range(len(data)):\n",
    "        d = data[i].strip().split()[0]\n",
    "        l = data[i].strip().split()[-1]\n",
    "        d_splits = d.split('/')\n",
    "        if len(d_splits) == 5:\n",
    "            path = os.path.join('/root/autodl-tmp/Places_LT/train', d.split('/', 2)[-1].replace('/', '-', 1))\n",
    "        else:\n",
    "            path = os.path.join('/root/autodl-tmp/Places_LT/train', d.split('/', 2)[-1])\n",
    "        val_imgs.append(path)\n",
    "        val_labels.append(l)\n",
    "        str2idx[int(l)] = path.split('/')[5]\n",
    "\n",
    "test_imgs = glob('/root/autodl-tmp/Places_LT/val/*/*')\n",
    "test_labels = list(map(lambda x:str2idx.index(x.split('/')[5]), test_imgs))"
   ]
  },
  {
   "cell_type": "code",
   "execution_count": null,
   "metadata": {
    "tags": []
   },
   "outputs": [],
   "source": [
    "df_train = pd.DataFrame({'image_path': train_imgs, 'label': train_labels})\n",
    "df_val = pd.DataFrame({'image_path': val_imgs, 'label': val_labels})\n",
    "df_test = pd.DataFrame({'image_path': test_imgs, 'label': test_labels})\n",
    "df_train['fold'] = 0\n",
    "df_val['fold'] = 1\n",
    "df_train_val = pd.concat([df_train, df_val], axis=0)\n",
    "df_train_val.to_csv('/root/autodl-tmp/Places_LT/Places_LT_train.csv', index=False)\n",
    "df_test.to_csv('/root/autodl-tmp/Places_LT/Places_LT_test.csv', index=False)\n",
    "display(df_train_val)\n",
    "df_test"
   ]
  },
  {
   "cell_type": "markdown",
   "metadata": {},
   "source": [
    "* IP102"
   ]
  },
  {
   "cell_type": "code",
   "execution_count": null,
   "metadata": {},
   "outputs": [],
   "source": [
    "import pandas as pd\n",
    "import os\n",
    "with open('/root/autodl-tmp/ip102_v1.1/train.txt', 'r') as f:\n",
    "    data = f.readlines()\n",
    "    train_imgs = [os.path.join('/root/autodl-tmp/ip102_v1.1/images', i.strip().split()[0]) for i in data]\n",
    "    train_labels = [i.strip().split()[-1] for i in data]\n",
    "with open('/root/autodl-tmp/ip102_v1.1/val.txt', 'r') as f:\n",
    "    data = f.readlines()\n",
    "    val_imgs = [os.path.join('/root/autodl-tmp/ip102_v1.1/images', i.strip().split()[0]) for i in data]\n",
    "    val_labels = [i.strip().split()[-1] for i in data]\n",
    "with open('/root/autodl-tmp/ip102_v1.1/test.txt', 'r') as f:\n",
    "    data = f.readlines()\n",
    "    test_imgs = [os.path.join('/root/autodl-tmp/ip102_v1.1/images', i.strip().split()[0]) for i in data]\n",
    "    test_labels = [i.strip().split()[-1] for i in data]"
   ]
  },
  {
   "cell_type": "code",
   "execution_count": null,
   "metadata": {},
   "outputs": [],
   "source": [
    "import pandas as pd\n",
    "import numpy as np\n",
    "df_train = pd.DataFrame({'image_path': train_imgs, 'label': train_labels})\n",
    "df_val = pd.DataFrame({'image_path': val_imgs, 'label': val_labels})\n",
    "df_test = pd.DataFrame({'image_path': test_imgs, 'label': test_labels})\n",
    "df_train['fold'] = 0\n",
    "df_val['fold'] = 1\n",
    "df_train_val = pd.concat([df_train, df_val], axis=0)\n",
    "df_train_val.to_csv('/root/autodl-tmp/ip102_v1.1/IP102_train.csv', index=False)\n",
    "df_test.to_csv('/root/autodl-tmp/ip102_v1.1/IP102_test.csv', index=False)\n",
    "display(df_train_val)\n",
    "df_test"
   ]
  },
  {
   "cell_type": "code",
   "execution_count": null,
   "metadata": {},
   "outputs": [],
   "source": []
  },
  {
   "cell_type": "markdown",
   "metadata": {},
   "source": [
    "* add"
   ]
  },
  {
   "cell_type": "code",
   "execution_count": null,
   "metadata": {},
   "outputs": [],
   "source": [
    "from sklearn.model_selection import StratifiedKFold\n",
    "from tqdm.notebook import tqdm\n",
    "df = pd.read_csv('/root/autodl-tmp/CIFAR100/Cifar_100_train.csv')\n",
    "split = list(StratifiedKFold(n_splits=2, shuffle=True, random_state=1).split(df, df['label']))\n",
    "for fold, (train_index, val_index) in enumerate(tqdm(split)):\n",
    "    df.loc[val_index, 'fold'] = fold\n",
    "df.to_csv('/root/autodl-tmp/CIFAR100/Cifar_100_train_2fold.csv', index=False)\n",
    "df"
   ]
  },
  {
   "cell_type": "code",
   "execution_count": null,
   "metadata": {},
   "outputs": [],
   "source": []
  }
 ],
 "metadata": {
  "kernelspec": {
   "display_name": "Python 3 (ipykernel)",
   "language": "python",
   "name": "python3"
  },
  "language_info": {
   "codemirror_mode": {
    "name": "ipython",
    "version": 3
   },
   "file_extension": ".py",
   "mimetype": "text/x-python",
   "name": "python",
   "nbconvert_exporter": "python",
   "pygments_lexer": "ipython3",
   "version": "3.8.10"
  },
  "vscode": {
   "interpreter": {
    "hash": "2f394aca7ca06fed1e6064aef884364492d7cdda3614a461e02e6407fc40ba69"
   }
  }
 },
 "nbformat": 4,
 "nbformat_minor": 4
}
